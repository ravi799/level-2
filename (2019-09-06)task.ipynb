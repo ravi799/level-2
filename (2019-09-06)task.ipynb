{
 "cells": [
  {
   "cell_type": "markdown",
   "metadata": {},
   "source": [
    "Question-1: Write a Python Program to largest of three given numbers (using input statement)\n",
    "Sample:Output:"
   ]
  },
  {
   "cell_type": "markdown",
   "metadata": {},
   "source": [
    "### Answer"
   ]
  },
  {
   "cell_type": "code",
   "execution_count": 3,
   "metadata": {},
   "outputs": [
    {
     "name": "stdout",
     "output_type": "stream",
     "text": [
      "enter a value35\n",
      "enter b value75\n",
      "enter c value21\n",
      "75 is large\n"
     ]
    }
   ],
   "source": [
    "a=int(input(\"enter a value\"))\n",
    "b=int(input(\"enter b value\"))\n",
    "c=int(input(\"enter c value\"))\n",
    "if a>b:\n",
    "    if a>c:\n",
    "        print(a,\"is large\")\n",
    "elif b>c:\n",
    "    if b>a:\n",
    "        print(b,\"is large\")\n",
    "else:\n",
    "    print(c,\"is large\")"
   ]
  },
  {
   "cell_type": "markdown",
   "metadata": {},
   "source": [
    "Question -2: Write a python program to find the given number(N) in given range(lower bound-upper bound)"
   ]
  },
  {
   "cell_type": "markdown",
   "metadata": {},
   "source": [
    "## Answer"
   ]
  },
  {
   "cell_type": "code",
   "execution_count": 4,
   "metadata": {},
   "outputs": [
    {
     "name": "stdout",
     "output_type": "stream",
     "text": [
      "enter upper case56\n",
      "enter lower case45\n",
      "enter value to search33\n",
      "33 not exist\n"
     ]
    }
   ],
   "source": [
    "x=int(input(\"enter upper case\"))\n",
    "y=int(input(\"enter lower case\"))\n",
    "z=int(input(\"enter value to search\"))\n",
    "if z in range(x,y):\n",
    "     print(z,\"is exist\")\n",
    "else:\n",
    "     print(z,\"not exist\")"
   ]
  }
 ],
 "metadata": {
  "kernelspec": {
   "display_name": "Python 3",
   "language": "python",
   "name": "python3"
  },
  "language_info": {
   "codemirror_mode": {
    "name": "ipython",
    "version": 3
   },
   "file_extension": ".py",
   "mimetype": "text/x-python",
   "name": "python",
   "nbconvert_exporter": "python",
   "pygments_lexer": "ipython3",
   "version": "3.7.3"
  }
 },
 "nbformat": 4,
 "nbformat_minor": 2
}
