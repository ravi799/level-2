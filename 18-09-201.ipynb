{
 "cells": [
  {
   "cell_type": "markdown",
   "metadata": {},
   "source": [
    "## Iterators"
   ]
  },
  {
   "cell_type": "markdown",
   "metadata": {},
   "source": [
    "- is an object that contains no of elements\n",
    "- they have two methos\"_iter_\"and\"_next_\".\n",
    "- lists,tuples"
   ]
  },
  {
   "cell_type": "markdown",
   "metadata": {},
   "source": [
    "## Generators"
   ]
  },
  {
   "cell_type": "markdown",
   "metadata": {},
   "source": [
    "- Generator is a function that returns iterators and objects.\n",
    "- Generators uses \"yield\" instead of \"return\"."
   ]
  },
  {
   "cell_type": "code",
   "execution_count": 2,
   "metadata": {},
   "outputs": [
    {
     "name": "stdout",
     "output_type": "stream",
     "text": [
      "1\n",
      "2\n",
      "3\n"
     ]
    }
   ],
   "source": [
    "def generatorFunction():\n",
    "    yield 1\n",
    "    yield 2\n",
    "    yield 3\n",
    "for value in generatorFunction():\n",
    "    print(value)\n"
   ]
  },
  {
   "cell_type": "markdown",
   "metadata": {},
   "source": [
    "- Funtion to print square of each number until it reaches the upper bound range using generators function[i.e.,range(5)->2^2=4,4^2=16,16^2...]"
   ]
  },
  {
   "cell_type": "code",
   "execution_count": 5,
   "metadata": {},
   "outputs": [
    {
     "name": "stdout",
     "output_type": "stream",
     "text": [
      "4\n",
      "8\n",
      "16\n",
      "32\n",
      "64\n"
     ]
    }
   ],
   "source": [
    "def gen():\n",
    "    n=2\n",
    "    while True:\n",
    "        n *=2\n",
    "        yield n\n",
    "a=gen()\n",
    "for i in range(5):\n",
    "    print(next(a))"
   ]
  },
  {
   "cell_type": "markdown",
   "metadata": {},
   "source": [
    "### maps in python"
   ]
  },
  {
   "cell_type": "markdown",
   "metadata": {},
   "source": [
    "- it produces list of results that it apply given function to each item of a given iterable(list,tuple,sets etc...)\n",
    "- syntax:map(function,iterable)"
   ]
  },
  {
   "cell_type": "code",
   "execution_count": 6,
   "metadata": {},
   "outputs": [
    {
     "name": "stdout",
     "output_type": "stream",
     "text": [
      "[2, 4, 6, 8]\n"
     ]
    }
   ],
   "source": [
    "def addition(n):\n",
    "    return n+n\n",
    "#1+1=2,2+2=4\n",
    "result=list(map(addition,range(1,5)))\n",
    "print(result)"
   ]
  },
  {
   "cell_type": "code",
   "execution_count": 7,
   "metadata": {},
   "outputs": [
    {
     "name": "stdout",
     "output_type": "stream",
     "text": [
      "{16, 1, 4, 9}\n"
     ]
    }
   ],
   "source": [
    "# Function to print squares of numbers in given range between 1 to 5\n",
    "def squareOfNumb(n):\n",
    "    return n*n\n",
    "result=set(map(squareOfNumb,range(1,5)))\n",
    "print(result)"
   ]
  },
  {
   "cell_type": "markdown",
   "metadata": {},
   "source": [
    "## Filters in python"
   ]
  },
  {
   "cell_type": "markdown",
   "metadata": {},
   "source": [
    "- Filters function in python is used to check whether given element is boolean or not(True or False).\n",
    "- syntax:f:x-zzz.{T,F}"
   ]
  },
  {
   "cell_type": "markdown",
   "metadata": {},
   "source": [
    "- task: Given its have alphanumeric values. check whether it is digit or alphabet and print all the digits.Explanation:Li={1,2.'a','b','c',3].\"filters\" checks elements elements in \"Li\" and it will print the result if condition is \"True\"(1->True,2->True,'a'->False....)"
   ]
  },
  {
   "cell_type": "code",
   "execution_count": 14,
   "metadata": {},
   "outputs": [
    {
     "data": {
      "text/plain": [
       "[1, 2, 3]"
      ]
     },
     "execution_count": 14,
     "metadata": {},
     "output_type": "execute_result"
    }
   ],
   "source": [
    "li=[1,2,'a','b','c',3]\n",
    "def isDigit(c):\n",
    "    c=str(c)\n",
    "    if c.isdigit():\n",
    "        return True\n",
    "    return False\n",
    "isDigit('a')\n",
    "list(filter(isDigit,li))"
   ]
  },
  {
   "cell_type": "markdown",
   "metadata": {},
   "source": [
    "- task: Print all prime numbers for a gievn range using filter() function"
   ]
  },
  {
   "cell_type": "code",
   "execution_count": 16,
   "metadata": {},
   "outputs": [
    {
     "name": "stdout",
     "output_type": "stream",
     "text": [
      "[503, 509, 521, 523, 541, 547, 557, 563, 569, 571, 577, 587, 593, 599]\n"
     ]
    }
   ],
   "source": [
    "def checkPrime(n):\n",
    "    if n<2:\n",
    "        return False\n",
    "    for i in range(2,n//2+1):\n",
    "        if n%i==0:\n",
    "            return False\n",
    "    return True\n",
    "lb,ub=500,600\n",
    "primeList=list(filter(checkPrime,range(lb,ub)))\n",
    "print(primeList)"
   ]
  },
  {
   "cell_type": "markdown",
   "metadata": {},
   "source": [
    "### Lambdas in python"
   ]
  },
  {
   "cell_type": "markdown",
   "metadata": {},
   "source": [
    "- Python lambda is  just a function without a name or anonymous function.\n",
    "- Syntax: Lambda argument: expression lambda x:x^3(x->argumennt,x^3->expression)\n",
    "- Note: Lambda takes 0 or more arguments but only one expression.\n",
    "- ex: lambda x,y:x+y"
   ]
  },
  {
   "cell_type": "code",
   "execution_count": null,
   "metadata": {},
   "outputs": [],
   "source": [
    "def cube(n):\n",
    "    return\n",
    "result\n",
    "result"
   ]
  },
  {
   "cell_type": "markdown",
   "metadata": {},
   "source": [
    "- example\n",
    "- example for lambda inline program\n",
    "- Note:lambda is not iterable,so by using map() or filter() functions we can write a program which is iterable\n",
    "- write a python program to print cubes of 1 to 6 numbers without using loops"
   ]
  },
  {
   "cell_type": "code",
   "execution_count": 17,
   "metadata": {},
   "outputs": [
    {
     "data": {
      "text/plain": [
       "[1, 8, 27, 64, 125, 216]"
      ]
     },
     "execution_count": 17,
     "metadata": {},
     "output_type": "execute_result"
    }
   ],
   "source": [
    "list(map(lambda x:x**3,[1,2,3,4,5,6]))"
   ]
  },
  {
   "cell_type": "markdown",
   "metadata": {},
   "source": [
    "- print all even numbers in the range between 20 and 40 using lambda function"
   ]
  },
  {
   "cell_type": "code",
   "execution_count": 18,
   "metadata": {},
   "outputs": [
    {
     "name": "stdout",
     "output_type": "stream",
     "text": [
      "[20, 22, 24, 26, 28, 30, 32, 34, 36, 38]\n"
     ]
    }
   ],
   "source": [
    "even=lambda x:x%2==0\n",
    "result=list(filter(even,range(20,40)))\n",
    "print(result)"
   ]
  },
  {
   "cell_type": "markdown",
   "metadata": {},
   "source": [
    "- applying functional programming to the marks analysis application and finding average of class(refer file handling and packages topics for better understanding)"
   ]
  },
  {
   "cell_type": "code",
   "execution_count": 21,
   "metadata": {},
   "outputs": [],
   "source": [
    "from random import randint\n",
    "def generateMarks(n,lb,ub):\n",
    "    filename='dataFiles/marks.txt'\n",
    "    with open(filename,'w') as f:\n",
    "        for i in range(n):\n",
    "            marks=randint(lb,ub)\n",
    "            f.write(str(marks)+'\\n')\n",
    "    return\n",
    "generateMarks(10000,0,100)"
   ]
  },
  {
   "cell_type": "code",
   "execution_count": null,
   "metadata": {},
   "outputs": [],
   "source": [
    "#class average"
   ]
  }
 ],
 "metadata": {
  "kernelspec": {
   "display_name": "Python 3",
   "language": "python",
   "name": "python3"
  },
  "language_info": {
   "codemirror_mode": {
    "name": "ipython",
    "version": 3
   },
   "file_extension": ".py",
   "mimetype": "text/x-python",
   "name": "python",
   "nbconvert_exporter": "python",
   "pygments_lexer": "ipython3",
   "version": "3.7.3"
  }
 },
 "nbformat": 4,
 "nbformat_minor": 2
}
