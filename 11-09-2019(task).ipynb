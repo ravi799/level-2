{
 "cells": [
  {
   "cell_type": "markdown",
   "metadata": {},
   "source": [
    "### Question-1:\n",
    "Prime Number: need to print the series of all prime numbers till N.\n",
    "Input Format:\n",
    "10\n",
    "Output Format:\n",
    "2 3 5 7"
   ]
  },
  {
   "cell_type": "code",
   "execution_count": 5,
   "metadata": {},
   "outputs": [
    {
     "name": "stdout",
     "output_type": "stream",
     "text": [
      "Enter range: 1\n",
      "Enter range: 10\n",
      "2\n",
      "3\n",
      "5\n",
      "7\n"
     ]
    }
   ],
   "source": [
    "i= int(input(\"Enter range: \"))  \n",
    "j= int(input(\"Enter range: \"))  \n",
    "  \n",
    "for num in range(i,j+ 1):  \n",
    "   if num > 1:  \n",
    "       for i in range(2,num):  \n",
    "           if (num % i) == 0:  \n",
    "               break  \n",
    "       else:  \n",
    "           print(num) "
   ]
  },
  {
   "cell_type": "markdown",
   "metadata": {},
   "source": [
    "## Question-2:\n",
    "Count Divisors: You have been given 3 integers - l, r and k. Find how many numbers between l and r (both inclusive) are divisible by k.\n",
    "Input Format:\n",
    "1 10 1\n",
    "Output Format:\n",
    "10"
   ]
  },
  {
   "cell_type": "code",
   "execution_count": 7,
   "metadata": {},
   "outputs": [
    {
     "name": "stdout",
     "output_type": "stream",
     "text": [
      "enter x value1\n",
      "enter y value10\n",
      "enter z value1\n",
      "10\n"
     ]
    }
   ],
   "source": [
    "x=int(input(\"enter x value\"))\n",
    "y=int(input(\"enter y value\"))\n",
    "z=int(input(\"enter z value\"))\n",
    "count=0\n",
    "for r in range(x,y+1):\n",
    "    if(r%z)==0:\n",
    "        count+=1\n",
    "print(count)"
   ]
  },
  {
   "cell_type": "markdown",
   "metadata": {},
   "source": [
    "### Question-3:\n",
    "Word Frequency: need to print words with frequency from given sentence (string) in dictionary format\n",
    "Input Format:\n",
    "ravi ramu balu ravi raghu\n",
    "Output Format:\n",
    "{“ravi”:2, “ramu”:1, “balu”:1, “raghu”:1}"
   ]
  },
  {
   "cell_type": "code",
   "execution_count": 10,
   "metadata": {},
   "outputs": [
    {
     "name": "stdout",
     "output_type": "stream",
     "text": [
      "ravi ramu balu ravi raghu\n",
      "{'ravi': 2}\n"
     ]
    }
   ],
   "source": [
    "n=input()\n",
    "n_words=n.split(\" \")\n",
    "c={}\n",
    "l=len(n_words)\n",
    "for i in range(0,1):\n",
    "    count=0\n",
    "    for r in range(0,l):\n",
    "        if(n_words[i]==n_words[r]):\n",
    "            count=count+1\n",
    "            c[n_words[i]]=count\n",
    "print(c)"
   ]
  },
  {
   "cell_type": "code",
   "execution_count": null,
   "metadata": {},
   "outputs": [],
   "source": []
  }
 ],
 "metadata": {
  "kernelspec": {
   "display_name": "Python 3",
   "language": "python",
   "name": "python3"
  },
  "language_info": {
   "codemirror_mode": {
    "name": "ipython",
    "version": 3
   },
   "file_extension": ".py",
   "mimetype": "text/x-python",
   "name": "python",
   "nbconvert_exporter": "python",
   "pygments_lexer": "ipython3",
   "version": "3.7.3"
  }
 },
 "nbformat": 4,
 "nbformat_minor": 2
}
