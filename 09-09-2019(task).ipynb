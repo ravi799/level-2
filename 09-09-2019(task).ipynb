{
 "cells": [
  {
   "cell_type": "markdown",
   "metadata": {},
   "source": [
    "#task-1:print the names which names end with 'u' character\n",
    "#output:raghu balu\n",
    "names =\"mahesh ravi raghu krish balu\"\n",
    "m=names.split(' ')\n",
    "for i in m:\n",
    "    if (i[-1]=='u'):\n",
    "        print(i)"
   ]
  },
  {
   "cell_type": "code",
   "execution_count": 2,
   "metadata": {
    "scrolled": true
   },
   "outputs": [
    {
     "name": "stdout",
     "output_type": "stream",
     "text": [
      "mahesh\n"
     ]
    }
   ],
   "source": [
    "#task2:print the names which length has maximum\n",
    "#output :mahesh\n",
    "names =\"mahesh ravi raghu krish balu\"\n",
    "s=names.split(' ')\n",
    "m=0\n",
    "for i in s:b\n",
    "    l= len(i)\n",
    "    if (l>m):\n",
    "        m=l\n",
    "for j in s:\n",
    "    if(len(j)==m):\n",
    "        print(j)"
   ]
  },
  {
   "cell_type": "code",
   "execution_count": 7,
   "metadata": {},
   "outputs": [
    {
     "name": "stdout",
     "output_type": "stream",
     "text": [
      "enter a string:RAMU\n",
      "NO\n"
     ]
    }
   ],
   "source": [
    "#task4:palindrom string :need to find and print whether \n",
    "#this string is a palindrome or not .if yes,print\"YES\" else print\"NO\"\n",
    "string= input(\"enter a string:\")\n",
    "string2= string[::-1]\n",
    "if string ==string2:\n",
    "    print(\"YES\")\n",
    "else:\n",
    "    print(\"NO\")"
   ]
  }
 ],
 "metadata": {
  "kernelspec": {
   "display_name": "Python 3",
   "language": "python",
   "name": "python3"
  },
  "language_info": {
   "codemirror_mode": {
    "name": "ipython",
    "version": 3
   },
   "file_extension": ".py",
   "mimetype": "text/x-python",
   "name": "python",
   "nbconvert_exporter": "python",
   "pygments_lexer": "ipython3",
   "version": "3.7.3"
  }
 },
 "nbformat": 4,
 "nbformat_minor": 2
}
